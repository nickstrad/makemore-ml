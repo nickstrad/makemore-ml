{
 "cells": [
  {
   "cell_type": "code",
   "execution_count": 29,
   "id": "17536ea6-aa1a-48b5-bb2a-f403568395c5",
   "metadata": {},
   "outputs": [],
   "source": [
    "import torch\n",
    "import matplotlib.pyplot as plt\n",
    "import torch.nn.functional as F"
   ]
  },
  {
   "cell_type": "code",
   "execution_count": 5,
   "id": "87450860-72ca-487b-8d34-162d4bd74bc6",
   "metadata": {},
   "outputs": [],
   "source": [
    "words = open('names.txt', 'r').read().splitlines()"
   ]
  },
  {
   "cell_type": "code",
   "execution_count": 6,
   "id": "a11f32d6-6518-4067-a077-0b9cfb744867",
   "metadata": {},
   "outputs": [],
   "source": [
    "N = torch.zeros((27,27), dtype=torch.int32)"
   ]
  },
  {
   "cell_type": "code",
   "execution_count": 7,
   "id": "b1bdebf0-866d-4d0d-95e0-dc08d36ddfde",
   "metadata": {},
   "outputs": [],
   "source": [
    "chars = sorted(list(set(''.join(words))))\n",
    "stoi = {s:i+1 for i,s in enumerate(chars)}\n",
    "stoi['.'] = 0\n",
    "itos = {i:s for s,i in stoi.items()}"
   ]
  },
  {
   "cell_type": "code",
   "execution_count": 8,
   "id": "7b93b979-4b81-44a4-8741-5548f97801d8",
   "metadata": {},
   "outputs": [],
   "source": [
    "for w in words:\n",
    "    chs = ['.'] + list(w) + ['.']\n",
    "    for ch1, ch2 in zip(chs, chs[1:]):\n",
    "        ix1 = stoi[ch1]\n",
    "        ix2 = stoi[ch2]\n",
    "        N[ix1, ix2] += 1 "
   ]
  },
  {
   "cell_type": "code",
   "execution_count": 9,
   "id": "36f491de-714f-4692-9ca7-0878422faafd",
   "metadata": {},
   "outputs": [],
   "source": [
    "# %matplotlib inline\n",
    "# plt.figure(figsize=(16,16))\n",
    "# plt.imshow(N, cmap='Blues')\n",
    "# for i in range(27):\n",
    "#     for j in range(27):\n",
    "#         chstr = itos[i] + itos[j]\n",
    "#         plt.text(j, i , chstr, ha=\"center\", va=\"bottom\", color=\"gray\")\n",
    "#         plt.text(j,i, N[i, j].item(), ha=\"center\", va=\"top\", color=\"gray\")\n",
    "# plt.axis('off')"
   ]
  },
  {
   "cell_type": "code",
   "execution_count": 10,
   "id": "0200f0bc-c430-4039-9292-210f0af436bf",
   "metadata": {},
   "outputs": [],
   "source": [
    "P = (N+1).float()\n",
    "P /= P.sum(1, keepdim=True)"
   ]
  },
  {
   "cell_type": "code",
   "execution_count": 11,
   "id": "6cb2febf-dc04-40cb-bbba-5346a2c38022",
   "metadata": {},
   "outputs": [
    {
     "name": "stdout",
     "output_type": "stream",
     "text": [
      "cexze\n",
      "momasurailezitynn\n",
      "konimittain\n",
      "llayn\n",
      "ka\n"
     ]
    }
   ],
   "source": [
    "g = torch.Generator().manual_seed(2147483647)\n",
    "for i in range(5):\n",
    "    ix = 0\n",
    "    out=[]\n",
    "    while True:\n",
    "        p = P[ix]\n",
    "        ix = torch.multinomial(p, num_samples=1, replacement=True, generator=g).item()\n",
    "        if ix == 0:\n",
    "            break\n",
    "        out.append(itos[ix])\n",
    "    print(''.join(out))"
   ]
  },
  {
   "cell_type": "code",
   "execution_count": 12,
   "id": "36605fee-509b-4a40-820a-d55fe2d0df66",
   "metadata": {},
   "outputs": [
    {
     "name": "stdout",
     "output_type": "stream",
     "text": [
      "log_likelihood/n=tensor(-2.4544)\n",
      "nll=tensor(559951.5625)\n",
      "2.4543561935424805\n"
     ]
    }
   ],
   "source": [
    "log_likelihood = 0\n",
    "n = 0\n",
    "for w in words:\n",
    "    chs = ['.'] + list(w) + ['.']\n",
    "    for ch1, ch2 in zip(chs, chs[1:]):\n",
    "        ix1 = stoi[ch1]\n",
    "        ix2 = stoi[ch2]\n",
    "        prob = P[ix1, ix2]\n",
    "        logprob = torch.log(prob)\n",
    "        log_likelihood += logprob\n",
    "        n += 1\n",
    "        # print(f\"{ch1}{ch2}: {prob*100:.4f} {logprob:.4f}\")\n",
    "print(f\"{log_likelihood/n=}\")\n",
    "nll = -log_likelihood\n",
    "print(f\"{nll=}\")\n",
    "print(f\"{nll/n}\")"
   ]
  },
  {
   "cell_type": "code",
   "execution_count": 35,
   "id": "34429380-2d06-497c-9bbc-9dfaaa205d7a",
   "metadata": {},
   "outputs": [
    {
     "name": "stdout",
     "output_type": "stream",
     "text": [
      ".=0 e=5\n",
      "e=5 m=13\n",
      "m=13 m=13\n",
      "m=13 a=1\n",
      "a=1 .=0\n",
      "xs=tensor([ 0,  5, 13, 13,  1])\n",
      "ys=tensor([ 5, 13, 13,  1,  0])\n"
     ]
    }
   ],
   "source": [
    "# create training set of all bigrams\n",
    "xs, ys = [],[]\n",
    "\n",
    "for w in words[:1]:\n",
    "    chs = ['.'] + list(w) + ['.']\n",
    "    for ch1, ch2 in zip(chs, chs[1:]):\n",
    "        ix1 = stoi[ch1]\n",
    "        ix2 = stoi[ch2]\n",
    "        print(f\"{ch1}={ix1} {ch2}={ix2}\")\n",
    "        xs.append(ix1)\n",
    "        ys.append(ix2)\n",
    "\n",
    "xs = torch.tensor(xs)\n",
    "ys = torch.tensor(ys)\n",
    "print(f\"{xs=}\")\n",
    "print(f\"{ys=}\")"
   ]
  },
  {
   "cell_type": "code",
   "execution_count": 38,
   "id": "b208b8fd-8b98-434c-82a5-8bca9e7cc66a",
   "metadata": {},
   "outputs": [],
   "source": [
    "xenc = F.one_hot(xs, num_classes=27).float()\n",
    "# plt.imshow(xenc)"
   ]
  },
  {
   "cell_type": "code",
   "execution_count": 41,
   "id": "ad3d8756-0329-4b85-98db-1be3ebb069c6",
   "metadata": {},
   "outputs": [
    {
     "data": {
      "text/plain": [
       "torch.Size([5, 27])"
      ]
     },
     "execution_count": 41,
     "metadata": {},
     "output_type": "execute_result"
    }
   ],
   "source": [
    "xenc.shape"
   ]
  },
  {
   "cell_type": "code",
   "execution_count": 49,
   "id": "9c792235-a6ab-4ecd-bf9e-a26bdff7d7e1",
   "metadata": {},
   "outputs": [
    {
     "data": {
      "text/plain": [
       "tensor([[0.7457, 0.4106, 0.1386, 0.4667, 0.1175, 0.0680, 0.3931, 0.4294, 0.1806,\n",
       "         0.7127, 0.8871, 0.5444, 0.4972, 0.8266, 0.4876, 0.7417, 0.9823, 0.6557,\n",
       "         0.1149, 0.6657, 0.3040, 0.8743, 0.5876, 0.0090, 0.5713, 0.4209, 0.2981],\n",
       "        [0.9490, 0.3318, 0.0325, 0.9076, 0.1185, 0.4342, 0.9365, 0.7486, 0.7972,\n",
       "         0.4068, 0.1183, 0.3115, 0.3506, 0.7485, 0.1552, 0.6267, 0.1149, 0.2278,\n",
       "         0.3477, 0.4116, 0.9146, 0.5002, 0.5523, 0.6706, 0.0615, 0.8107, 0.7669],\n",
       "        [0.9054, 0.3974, 0.1260, 0.4503, 0.0471, 0.6786, 0.9308, 0.0930, 0.0619,\n",
       "         0.5489, 0.2762, 0.1948, 0.5526, 0.1963, 0.1837, 0.9075, 0.6450, 0.2490,\n",
       "         0.7418, 0.1487, 0.1018, 0.9133, 0.0133, 0.3043, 0.4224, 0.5949, 0.8299],\n",
       "        [0.9054, 0.3974, 0.1260, 0.4503, 0.0471, 0.6786, 0.9308, 0.0930, 0.0619,\n",
       "         0.5489, 0.2762, 0.1948, 0.5526, 0.1963, 0.1837, 0.9075, 0.6450, 0.2490,\n",
       "         0.7418, 0.1487, 0.1018, 0.9133, 0.0133, 0.3043, 0.4224, 0.5949, 0.8299],\n",
       "        [0.6293, 0.8476, 0.9945, 0.0959, 0.7729, 0.9625, 0.2126, 0.4654, 0.1418,\n",
       "         0.3676, 0.2693, 0.4660, 0.0365, 0.8680, 0.8076, 0.3225, 0.2224, 0.4555,\n",
       "         0.7667, 0.9814, 0.9418, 0.9011, 0.6075, 0.9744, 0.3460, 0.4930, 0.9802]])"
      ]
     },
     "execution_count": 49,
     "metadata": {},
     "output_type": "execute_result"
    }
   ],
   "source": [
    "W = torch.rand((27,27))\n",
    "ans = xenc @ W\n",
    "ans"
   ]
  },
  {
   "cell_type": "code",
   "execution_count": 50,
   "id": "ccef8922-2141-4143-8db9-adf7d053face",
   "metadata": {},
   "outputs": [
    {
     "data": {
      "text/plain": [
       "torch.Size([5, 27])"
      ]
     },
     "execution_count": 50,
     "metadata": {},
     "output_type": "execute_result"
    }
   ],
   "source": [
    "ans.shape"
   ]
  },
  {
   "cell_type": "code",
   "execution_count": null,
   "id": "2db40c98-b263-4adb-8cce-de46ed2e4fe6",
   "metadata": {},
   "outputs": [],
   "source": []
  }
 ],
 "metadata": {
  "kernelspec": {
   "display_name": "Python 3 (ipykernel)",
   "language": "python",
   "name": "python3"
  },
  "language_info": {
   "codemirror_mode": {
    "name": "ipython",
    "version": 3
   },
   "file_extension": ".py",
   "mimetype": "text/x-python",
   "name": "python",
   "nbconvert_exporter": "python",
   "pygments_lexer": "ipython3",
   "version": "3.9.20"
  }
 },
 "nbformat": 4,
 "nbformat_minor": 5
}
